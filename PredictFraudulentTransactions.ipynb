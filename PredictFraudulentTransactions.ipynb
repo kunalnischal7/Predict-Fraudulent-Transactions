{
  "nbformat": 4,
  "nbformat_minor": 0,
  "metadata": {
    "colab": {
      "provenance": [],
      "toc_visible": true,
      "authorship_tag": "ABX9TyNYJEvlpRpRmNIO/ejB+lPp",
      "include_colab_link": true
    },
    "kernelspec": {
      "name": "python3",
      "display_name": "Python 3"
    },
    "language_info": {
      "name": "python"
    }
  },
  "cells": [
    {
      "cell_type": "markdown",
      "metadata": {
        "id": "view-in-github",
        "colab_type": "text"
      },
      "source": [
        "<a href=\"https://colab.research.google.com/github/kunalnischal7/Predict-Fraudulent-Transactions/blob/main/PredictFraudulentTransactions.ipynb\" target=\"_parent\"><img src=\"https://colab.research.google.com/assets/colab-badge.svg\" alt=\"Open In Colab\"/></a>"
      ]
    },
    {
      "cell_type": "markdown",
      "source": [
        "# Data Preprocessing"
      ],
      "metadata": {
        "id": "SZ5qFlUgwjhq"
      }
    },
    {
      "cell_type": "markdown",
      "source": [
        "## Import Libraries"
      ],
      "metadata": {
        "id": "cUrVl7afw2QD"
      }
    },
    {
      "cell_type": "code",
      "execution_count": 19,
      "metadata": {
        "id": "dSprdwehwYhV"
      },
      "outputs": [],
      "source": [
        "import tensorflow as tf\n",
        "import pandas as pd\n",
        "import sklearn\n",
        "import matplotlib.pyplot as plt\n",
        "import numpy as np"
      ]
    },
    {
      "cell_type": "markdown",
      "source": [
        "## Mount Google Drive"
      ],
      "metadata": {
        "id": "mWcZfZsMxIo1"
      }
    },
    {
      "cell_type": "code",
      "source": [
        "from google.colab import drive\n",
        "drive.mount('/content/drive')"
      ],
      "metadata": {
        "colab": {
          "base_uri": "https://localhost:8080/"
        },
        "id": "sA4u5WPxw5cD",
        "outputId": "846ed4ee-00ad-483f-aab8-29ada73fd438"
      },
      "execution_count": 2,
      "outputs": [
        {
          "output_type": "stream",
          "name": "stdout",
          "text": [
            "Mounted at /content/drive\n"
          ]
        }
      ]
    },
    {
      "cell_type": "markdown",
      "source": [
        "## Load Data"
      ],
      "metadata": {
        "id": "F648h2QUxZX9"
      }
    },
    {
      "cell_type": "code",
      "source": [
        "file_path = '/content/drive/My Drive/Fraud.csv'"
      ],
      "metadata": {
        "id": "Lf4_dQ7WxPjM"
      },
      "execution_count": 3,
      "outputs": []
    },
    {
      "cell_type": "code",
      "source": [
        "df = pd.read_csv(file_path)"
      ],
      "metadata": {
        "id": "z04TLEFwxh8r"
      },
      "execution_count": 5,
      "outputs": []
    },
    {
      "cell_type": "markdown",
      "source": [
        "# Data Preparation"
      ],
      "metadata": {
        "id": "u2A0WNjnx6QI"
      }
    },
    {
      "cell_type": "markdown",
      "source": [
        "## Data Shuffling"
      ],
      "metadata": {
        "id": "UAPAsajhyRnZ"
      }
    },
    {
      "cell_type": "code",
      "source": [
        "from sklearn.utils import shuffle\n",
        "df = shuffle(df, random_state = 44)"
      ],
      "metadata": {
        "id": "_BeF5uqfx3wD"
      },
      "execution_count": 7,
      "outputs": []
    },
    {
      "cell_type": "code",
      "source": [
        "df = df.drop('isFlaggedFraud', axis=1)\n",
        "df"
      ],
      "metadata": {
        "colab": {
          "base_uri": "https://localhost:8080/",
          "height": 439
        },
        "id": "VaJqRTMq-xEQ",
        "outputId": "2371f53a-e60d-4134-bfb1-a0bd77671b68"
      },
      "execution_count": 13,
      "outputs": [
        {
          "output_type": "execute_result",
          "data": {
            "text/plain": [
              "         step      type     amount     nameOrig  oldbalanceOrg  \\\n",
              "584771     33  CASH_OUT  128143.84    C25914186       22007.00   \n",
              "1111643   130   PAYMENT   16789.22  C1518672148      130499.39   \n",
              "3611497   273   PAYMENT   38065.38   C811511306           0.00   \n",
              "4491117   324  CASH_OUT  261515.07   C807077025       19203.00   \n",
              "4071959   300   CASH_IN  348783.73   C354564231      118174.91   \n",
              "...       ...       ...        ...          ...            ...   \n",
              "2146875   184  CASH_OUT   75288.74  C1661227955       10541.00   \n",
              "2253997   187  CASH_OUT    8896.32  C2120413395       11166.00   \n",
              "5499633   380   PAYMENT    1802.06  C1674048218           0.00   \n",
              "3870115   283  CASH_OUT  305475.67  C2140358791           0.00   \n",
              "3684116   276   PAYMENT   14397.20  C2105449073        8465.51   \n",
              "\n",
              "         newbalanceOrig     nameDest  oldbalanceDest  newbalanceDest  isFraud  \n",
              "584771             0.00  C1450282055       140130.89       268274.73        0  \n",
              "1111643       113710.17   M293128500            0.00            0.00        0  \n",
              "3611497            0.00   M642413460            0.00            0.00        0  \n",
              "4491117            0.00  C1492756391       284637.24       546152.31        0  \n",
              "4071959       466958.64   C762408345       792084.69       443300.96        0  \n",
              "...                 ...          ...             ...             ...      ...  \n",
              "2146875            0.00  C1844272985       603046.41       678335.15        0  \n",
              "2253997         2269.68    C32755964      4654929.08      4663825.40        0  \n",
              "5499633            0.00   M569596054            0.00            0.00        0  \n",
              "3870115            0.00   C707361236      5305573.30      5611048.97        0  \n",
              "3684116            0.00   M709028523            0.00            0.00        0  \n",
              "\n",
              "[6362620 rows x 10 columns]"
            ],
            "text/html": [
              "\n",
              "  <div id=\"df-48783c8a-da97-4823-9ecf-dbf467574b66\" class=\"colab-df-container\">\n",
              "    <div>\n",
              "<style scoped>\n",
              "    .dataframe tbody tr th:only-of-type {\n",
              "        vertical-align: middle;\n",
              "    }\n",
              "\n",
              "    .dataframe tbody tr th {\n",
              "        vertical-align: top;\n",
              "    }\n",
              "\n",
              "    .dataframe thead th {\n",
              "        text-align: right;\n",
              "    }\n",
              "</style>\n",
              "<table border=\"1\" class=\"dataframe\">\n",
              "  <thead>\n",
              "    <tr style=\"text-align: right;\">\n",
              "      <th></th>\n",
              "      <th>step</th>\n",
              "      <th>type</th>\n",
              "      <th>amount</th>\n",
              "      <th>nameOrig</th>\n",
              "      <th>oldbalanceOrg</th>\n",
              "      <th>newbalanceOrig</th>\n",
              "      <th>nameDest</th>\n",
              "      <th>oldbalanceDest</th>\n",
              "      <th>newbalanceDest</th>\n",
              "      <th>isFraud</th>\n",
              "    </tr>\n",
              "  </thead>\n",
              "  <tbody>\n",
              "    <tr>\n",
              "      <th>584771</th>\n",
              "      <td>33</td>\n",
              "      <td>CASH_OUT</td>\n",
              "      <td>128143.84</td>\n",
              "      <td>C25914186</td>\n",
              "      <td>22007.00</td>\n",
              "      <td>0.00</td>\n",
              "      <td>C1450282055</td>\n",
              "      <td>140130.89</td>\n",
              "      <td>268274.73</td>\n",
              "      <td>0</td>\n",
              "    </tr>\n",
              "    <tr>\n",
              "      <th>1111643</th>\n",
              "      <td>130</td>\n",
              "      <td>PAYMENT</td>\n",
              "      <td>16789.22</td>\n",
              "      <td>C1518672148</td>\n",
              "      <td>130499.39</td>\n",
              "      <td>113710.17</td>\n",
              "      <td>M293128500</td>\n",
              "      <td>0.00</td>\n",
              "      <td>0.00</td>\n",
              "      <td>0</td>\n",
              "    </tr>\n",
              "    <tr>\n",
              "      <th>3611497</th>\n",
              "      <td>273</td>\n",
              "      <td>PAYMENT</td>\n",
              "      <td>38065.38</td>\n",
              "      <td>C811511306</td>\n",
              "      <td>0.00</td>\n",
              "      <td>0.00</td>\n",
              "      <td>M642413460</td>\n",
              "      <td>0.00</td>\n",
              "      <td>0.00</td>\n",
              "      <td>0</td>\n",
              "    </tr>\n",
              "    <tr>\n",
              "      <th>4491117</th>\n",
              "      <td>324</td>\n",
              "      <td>CASH_OUT</td>\n",
              "      <td>261515.07</td>\n",
              "      <td>C807077025</td>\n",
              "      <td>19203.00</td>\n",
              "      <td>0.00</td>\n",
              "      <td>C1492756391</td>\n",
              "      <td>284637.24</td>\n",
              "      <td>546152.31</td>\n",
              "      <td>0</td>\n",
              "    </tr>\n",
              "    <tr>\n",
              "      <th>4071959</th>\n",
              "      <td>300</td>\n",
              "      <td>CASH_IN</td>\n",
              "      <td>348783.73</td>\n",
              "      <td>C354564231</td>\n",
              "      <td>118174.91</td>\n",
              "      <td>466958.64</td>\n",
              "      <td>C762408345</td>\n",
              "      <td>792084.69</td>\n",
              "      <td>443300.96</td>\n",
              "      <td>0</td>\n",
              "    </tr>\n",
              "    <tr>\n",
              "      <th>...</th>\n",
              "      <td>...</td>\n",
              "      <td>...</td>\n",
              "      <td>...</td>\n",
              "      <td>...</td>\n",
              "      <td>...</td>\n",
              "      <td>...</td>\n",
              "      <td>...</td>\n",
              "      <td>...</td>\n",
              "      <td>...</td>\n",
              "      <td>...</td>\n",
              "    </tr>\n",
              "    <tr>\n",
              "      <th>2146875</th>\n",
              "      <td>184</td>\n",
              "      <td>CASH_OUT</td>\n",
              "      <td>75288.74</td>\n",
              "      <td>C1661227955</td>\n",
              "      <td>10541.00</td>\n",
              "      <td>0.00</td>\n",
              "      <td>C1844272985</td>\n",
              "      <td>603046.41</td>\n",
              "      <td>678335.15</td>\n",
              "      <td>0</td>\n",
              "    </tr>\n",
              "    <tr>\n",
              "      <th>2253997</th>\n",
              "      <td>187</td>\n",
              "      <td>CASH_OUT</td>\n",
              "      <td>8896.32</td>\n",
              "      <td>C2120413395</td>\n",
              "      <td>11166.00</td>\n",
              "      <td>2269.68</td>\n",
              "      <td>C32755964</td>\n",
              "      <td>4654929.08</td>\n",
              "      <td>4663825.40</td>\n",
              "      <td>0</td>\n",
              "    </tr>\n",
              "    <tr>\n",
              "      <th>5499633</th>\n",
              "      <td>380</td>\n",
              "      <td>PAYMENT</td>\n",
              "      <td>1802.06</td>\n",
              "      <td>C1674048218</td>\n",
              "      <td>0.00</td>\n",
              "      <td>0.00</td>\n",
              "      <td>M569596054</td>\n",
              "      <td>0.00</td>\n",
              "      <td>0.00</td>\n",
              "      <td>0</td>\n",
              "    </tr>\n",
              "    <tr>\n",
              "      <th>3870115</th>\n",
              "      <td>283</td>\n",
              "      <td>CASH_OUT</td>\n",
              "      <td>305475.67</td>\n",
              "      <td>C2140358791</td>\n",
              "      <td>0.00</td>\n",
              "      <td>0.00</td>\n",
              "      <td>C707361236</td>\n",
              "      <td>5305573.30</td>\n",
              "      <td>5611048.97</td>\n",
              "      <td>0</td>\n",
              "    </tr>\n",
              "    <tr>\n",
              "      <th>3684116</th>\n",
              "      <td>276</td>\n",
              "      <td>PAYMENT</td>\n",
              "      <td>14397.20</td>\n",
              "      <td>C2105449073</td>\n",
              "      <td>8465.51</td>\n",
              "      <td>0.00</td>\n",
              "      <td>M709028523</td>\n",
              "      <td>0.00</td>\n",
              "      <td>0.00</td>\n",
              "      <td>0</td>\n",
              "    </tr>\n",
              "  </tbody>\n",
              "</table>\n",
              "<p>6362620 rows × 10 columns</p>\n",
              "</div>\n",
              "    <div class=\"colab-df-buttons\">\n",
              "\n",
              "  <div class=\"colab-df-container\">\n",
              "    <button class=\"colab-df-convert\" onclick=\"convertToInteractive('df-48783c8a-da97-4823-9ecf-dbf467574b66')\"\n",
              "            title=\"Convert this dataframe to an interactive table.\"\n",
              "            style=\"display:none;\">\n",
              "\n",
              "  <svg xmlns=\"http://www.w3.org/2000/svg\" height=\"24px\" viewBox=\"0 -960 960 960\">\n",
              "    <path d=\"M120-120v-720h720v720H120Zm60-500h600v-160H180v160Zm220 220h160v-160H400v160Zm0 220h160v-160H400v160ZM180-400h160v-160H180v160Zm440 0h160v-160H620v160ZM180-180h160v-160H180v160Zm440 0h160v-160H620v160Z\"/>\n",
              "  </svg>\n",
              "    </button>\n",
              "\n",
              "  <style>\n",
              "    .colab-df-container {\n",
              "      display:flex;\n",
              "      gap: 12px;\n",
              "    }\n",
              "\n",
              "    .colab-df-convert {\n",
              "      background-color: #E8F0FE;\n",
              "      border: none;\n",
              "      border-radius: 50%;\n",
              "      cursor: pointer;\n",
              "      display: none;\n",
              "      fill: #1967D2;\n",
              "      height: 32px;\n",
              "      padding: 0 0 0 0;\n",
              "      width: 32px;\n",
              "    }\n",
              "\n",
              "    .colab-df-convert:hover {\n",
              "      background-color: #E2EBFA;\n",
              "      box-shadow: 0px 1px 2px rgba(60, 64, 67, 0.3), 0px 1px 3px 1px rgba(60, 64, 67, 0.15);\n",
              "      fill: #174EA6;\n",
              "    }\n",
              "\n",
              "    .colab-df-buttons div {\n",
              "      margin-bottom: 4px;\n",
              "    }\n",
              "\n",
              "    [theme=dark] .colab-df-convert {\n",
              "      background-color: #3B4455;\n",
              "      fill: #D2E3FC;\n",
              "    }\n",
              "\n",
              "    [theme=dark] .colab-df-convert:hover {\n",
              "      background-color: #434B5C;\n",
              "      box-shadow: 0px 1px 3px 1px rgba(0, 0, 0, 0.15);\n",
              "      filter: drop-shadow(0px 1px 2px rgba(0, 0, 0, 0.3));\n",
              "      fill: #FFFFFF;\n",
              "    }\n",
              "  </style>\n",
              "\n",
              "    <script>\n",
              "      const buttonEl =\n",
              "        document.querySelector('#df-48783c8a-da97-4823-9ecf-dbf467574b66 button.colab-df-convert');\n",
              "      buttonEl.style.display =\n",
              "        google.colab.kernel.accessAllowed ? 'block' : 'none';\n",
              "\n",
              "      async function convertToInteractive(key) {\n",
              "        const element = document.querySelector('#df-48783c8a-da97-4823-9ecf-dbf467574b66');\n",
              "        const dataTable =\n",
              "          await google.colab.kernel.invokeFunction('convertToInteractive',\n",
              "                                                    [key], {});\n",
              "        if (!dataTable) return;\n",
              "\n",
              "        const docLinkHtml = 'Like what you see? Visit the ' +\n",
              "          '<a target=\"_blank\" href=https://colab.research.google.com/notebooks/data_table.ipynb>data table notebook</a>'\n",
              "          + ' to learn more about interactive tables.';\n",
              "        element.innerHTML = '';\n",
              "        dataTable['output_type'] = 'display_data';\n",
              "        await google.colab.output.renderOutput(dataTable, element);\n",
              "        const docLink = document.createElement('div');\n",
              "        docLink.innerHTML = docLinkHtml;\n",
              "        element.appendChild(docLink);\n",
              "      }\n",
              "    </script>\n",
              "  </div>\n",
              "\n",
              "\n",
              "<div id=\"df-de07e46e-b2d4-4420-8d22-d7e52d64e43b\">\n",
              "  <button class=\"colab-df-quickchart\" onclick=\"quickchart('df-de07e46e-b2d4-4420-8d22-d7e52d64e43b')\"\n",
              "            title=\"Suggest charts.\"\n",
              "            style=\"display:none;\">\n",
              "\n",
              "<svg xmlns=\"http://www.w3.org/2000/svg\" height=\"24px\"viewBox=\"0 0 24 24\"\n",
              "     width=\"24px\">\n",
              "    <g>\n",
              "        <path d=\"M19 3H5c-1.1 0-2 .9-2 2v14c0 1.1.9 2 2 2h14c1.1 0 2-.9 2-2V5c0-1.1-.9-2-2-2zM9 17H7v-7h2v7zm4 0h-2V7h2v10zm4 0h-2v-4h2v4z\"/>\n",
              "    </g>\n",
              "</svg>\n",
              "  </button>\n",
              "\n",
              "<style>\n",
              "  .colab-df-quickchart {\n",
              "    background-color: #E8F0FE;\n",
              "    border: none;\n",
              "    border-radius: 50%;\n",
              "    cursor: pointer;\n",
              "    display: none;\n",
              "    fill: #1967D2;\n",
              "    height: 32px;\n",
              "    padding: 0 0 0 0;\n",
              "    width: 32px;\n",
              "  }\n",
              "\n",
              "  .colab-df-quickchart:hover {\n",
              "    background-color: #E2EBFA;\n",
              "    box-shadow: 0px 1px 2px rgba(60, 64, 67, 0.3), 0px 1px 3px 1px rgba(60, 64, 67, 0.15);\n",
              "    fill: #174EA6;\n",
              "  }\n",
              "\n",
              "  [theme=dark] .colab-df-quickchart {\n",
              "    background-color: #3B4455;\n",
              "    fill: #D2E3FC;\n",
              "  }\n",
              "\n",
              "  [theme=dark] .colab-df-quickchart:hover {\n",
              "    background-color: #434B5C;\n",
              "    box-shadow: 0px 1px 3px 1px rgba(0, 0, 0, 0.15);\n",
              "    filter: drop-shadow(0px 1px 2px rgba(0, 0, 0, 0.3));\n",
              "    fill: #FFFFFF;\n",
              "  }\n",
              "</style>\n",
              "\n",
              "  <script>\n",
              "    async function quickchart(key) {\n",
              "      const charts = await google.colab.kernel.invokeFunction(\n",
              "          'suggestCharts', [key], {});\n",
              "    }\n",
              "    (() => {\n",
              "      let quickchartButtonEl =\n",
              "        document.querySelector('#df-de07e46e-b2d4-4420-8d22-d7e52d64e43b button');\n",
              "      quickchartButtonEl.style.display =\n",
              "        google.colab.kernel.accessAllowed ? 'block' : 'none';\n",
              "    })();\n",
              "  </script>\n",
              "</div>\n",
              "    </div>\n",
              "  </div>\n"
            ]
          },
          "metadata": {},
          "execution_count": 13
        }
      ]
    },
    {
      "cell_type": "code",
      "source": [
        "X = df.drop('isFraud' , axis=1)\n",
        "X"
      ],
      "metadata": {
        "colab": {
          "base_uri": "https://localhost:8080/",
          "height": 439
        },
        "id": "6rOevX16yYa7",
        "outputId": "776b4652-1e8e-4073-be87-c9abb9eadaac"
      },
      "execution_count": 14,
      "outputs": [
        {
          "output_type": "execute_result",
          "data": {
            "text/plain": [
              "         step      type     amount     nameOrig  oldbalanceOrg  \\\n",
              "584771     33  CASH_OUT  128143.84    C25914186       22007.00   \n",
              "1111643   130   PAYMENT   16789.22  C1518672148      130499.39   \n",
              "3611497   273   PAYMENT   38065.38   C811511306           0.00   \n",
              "4491117   324  CASH_OUT  261515.07   C807077025       19203.00   \n",
              "4071959   300   CASH_IN  348783.73   C354564231      118174.91   \n",
              "...       ...       ...        ...          ...            ...   \n",
              "2146875   184  CASH_OUT   75288.74  C1661227955       10541.00   \n",
              "2253997   187  CASH_OUT    8896.32  C2120413395       11166.00   \n",
              "5499633   380   PAYMENT    1802.06  C1674048218           0.00   \n",
              "3870115   283  CASH_OUT  305475.67  C2140358791           0.00   \n",
              "3684116   276   PAYMENT   14397.20  C2105449073        8465.51   \n",
              "\n",
              "         newbalanceOrig     nameDest  oldbalanceDest  newbalanceDest  \n",
              "584771             0.00  C1450282055       140130.89       268274.73  \n",
              "1111643       113710.17   M293128500            0.00            0.00  \n",
              "3611497            0.00   M642413460            0.00            0.00  \n",
              "4491117            0.00  C1492756391       284637.24       546152.31  \n",
              "4071959       466958.64   C762408345       792084.69       443300.96  \n",
              "...                 ...          ...             ...             ...  \n",
              "2146875            0.00  C1844272985       603046.41       678335.15  \n",
              "2253997         2269.68    C32755964      4654929.08      4663825.40  \n",
              "5499633            0.00   M569596054            0.00            0.00  \n",
              "3870115            0.00   C707361236      5305573.30      5611048.97  \n",
              "3684116            0.00   M709028523            0.00            0.00  \n",
              "\n",
              "[6362620 rows x 9 columns]"
            ],
            "text/html": [
              "\n",
              "  <div id=\"df-c3e84bde-db66-4c99-9356-e4cebd4215ee\" class=\"colab-df-container\">\n",
              "    <div>\n",
              "<style scoped>\n",
              "    .dataframe tbody tr th:only-of-type {\n",
              "        vertical-align: middle;\n",
              "    }\n",
              "\n",
              "    .dataframe tbody tr th {\n",
              "        vertical-align: top;\n",
              "    }\n",
              "\n",
              "    .dataframe thead th {\n",
              "        text-align: right;\n",
              "    }\n",
              "</style>\n",
              "<table border=\"1\" class=\"dataframe\">\n",
              "  <thead>\n",
              "    <tr style=\"text-align: right;\">\n",
              "      <th></th>\n",
              "      <th>step</th>\n",
              "      <th>type</th>\n",
              "      <th>amount</th>\n",
              "      <th>nameOrig</th>\n",
              "      <th>oldbalanceOrg</th>\n",
              "      <th>newbalanceOrig</th>\n",
              "      <th>nameDest</th>\n",
              "      <th>oldbalanceDest</th>\n",
              "      <th>newbalanceDest</th>\n",
              "    </tr>\n",
              "  </thead>\n",
              "  <tbody>\n",
              "    <tr>\n",
              "      <th>584771</th>\n",
              "      <td>33</td>\n",
              "      <td>CASH_OUT</td>\n",
              "      <td>128143.84</td>\n",
              "      <td>C25914186</td>\n",
              "      <td>22007.00</td>\n",
              "      <td>0.00</td>\n",
              "      <td>C1450282055</td>\n",
              "      <td>140130.89</td>\n",
              "      <td>268274.73</td>\n",
              "    </tr>\n",
              "    <tr>\n",
              "      <th>1111643</th>\n",
              "      <td>130</td>\n",
              "      <td>PAYMENT</td>\n",
              "      <td>16789.22</td>\n",
              "      <td>C1518672148</td>\n",
              "      <td>130499.39</td>\n",
              "      <td>113710.17</td>\n",
              "      <td>M293128500</td>\n",
              "      <td>0.00</td>\n",
              "      <td>0.00</td>\n",
              "    </tr>\n",
              "    <tr>\n",
              "      <th>3611497</th>\n",
              "      <td>273</td>\n",
              "      <td>PAYMENT</td>\n",
              "      <td>38065.38</td>\n",
              "      <td>C811511306</td>\n",
              "      <td>0.00</td>\n",
              "      <td>0.00</td>\n",
              "      <td>M642413460</td>\n",
              "      <td>0.00</td>\n",
              "      <td>0.00</td>\n",
              "    </tr>\n",
              "    <tr>\n",
              "      <th>4491117</th>\n",
              "      <td>324</td>\n",
              "      <td>CASH_OUT</td>\n",
              "      <td>261515.07</td>\n",
              "      <td>C807077025</td>\n",
              "      <td>19203.00</td>\n",
              "      <td>0.00</td>\n",
              "      <td>C1492756391</td>\n",
              "      <td>284637.24</td>\n",
              "      <td>546152.31</td>\n",
              "    </tr>\n",
              "    <tr>\n",
              "      <th>4071959</th>\n",
              "      <td>300</td>\n",
              "      <td>CASH_IN</td>\n",
              "      <td>348783.73</td>\n",
              "      <td>C354564231</td>\n",
              "      <td>118174.91</td>\n",
              "      <td>466958.64</td>\n",
              "      <td>C762408345</td>\n",
              "      <td>792084.69</td>\n",
              "      <td>443300.96</td>\n",
              "    </tr>\n",
              "    <tr>\n",
              "      <th>...</th>\n",
              "      <td>...</td>\n",
              "      <td>...</td>\n",
              "      <td>...</td>\n",
              "      <td>...</td>\n",
              "      <td>...</td>\n",
              "      <td>...</td>\n",
              "      <td>...</td>\n",
              "      <td>...</td>\n",
              "      <td>...</td>\n",
              "    </tr>\n",
              "    <tr>\n",
              "      <th>2146875</th>\n",
              "      <td>184</td>\n",
              "      <td>CASH_OUT</td>\n",
              "      <td>75288.74</td>\n",
              "      <td>C1661227955</td>\n",
              "      <td>10541.00</td>\n",
              "      <td>0.00</td>\n",
              "      <td>C1844272985</td>\n",
              "      <td>603046.41</td>\n",
              "      <td>678335.15</td>\n",
              "    </tr>\n",
              "    <tr>\n",
              "      <th>2253997</th>\n",
              "      <td>187</td>\n",
              "      <td>CASH_OUT</td>\n",
              "      <td>8896.32</td>\n",
              "      <td>C2120413395</td>\n",
              "      <td>11166.00</td>\n",
              "      <td>2269.68</td>\n",
              "      <td>C32755964</td>\n",
              "      <td>4654929.08</td>\n",
              "      <td>4663825.40</td>\n",
              "    </tr>\n",
              "    <tr>\n",
              "      <th>5499633</th>\n",
              "      <td>380</td>\n",
              "      <td>PAYMENT</td>\n",
              "      <td>1802.06</td>\n",
              "      <td>C1674048218</td>\n",
              "      <td>0.00</td>\n",
              "      <td>0.00</td>\n",
              "      <td>M569596054</td>\n",
              "      <td>0.00</td>\n",
              "      <td>0.00</td>\n",
              "    </tr>\n",
              "    <tr>\n",
              "      <th>3870115</th>\n",
              "      <td>283</td>\n",
              "      <td>CASH_OUT</td>\n",
              "      <td>305475.67</td>\n",
              "      <td>C2140358791</td>\n",
              "      <td>0.00</td>\n",
              "      <td>0.00</td>\n",
              "      <td>C707361236</td>\n",
              "      <td>5305573.30</td>\n",
              "      <td>5611048.97</td>\n",
              "    </tr>\n",
              "    <tr>\n",
              "      <th>3684116</th>\n",
              "      <td>276</td>\n",
              "      <td>PAYMENT</td>\n",
              "      <td>14397.20</td>\n",
              "      <td>C2105449073</td>\n",
              "      <td>8465.51</td>\n",
              "      <td>0.00</td>\n",
              "      <td>M709028523</td>\n",
              "      <td>0.00</td>\n",
              "      <td>0.00</td>\n",
              "    </tr>\n",
              "  </tbody>\n",
              "</table>\n",
              "<p>6362620 rows × 9 columns</p>\n",
              "</div>\n",
              "    <div class=\"colab-df-buttons\">\n",
              "\n",
              "  <div class=\"colab-df-container\">\n",
              "    <button class=\"colab-df-convert\" onclick=\"convertToInteractive('df-c3e84bde-db66-4c99-9356-e4cebd4215ee')\"\n",
              "            title=\"Convert this dataframe to an interactive table.\"\n",
              "            style=\"display:none;\">\n",
              "\n",
              "  <svg xmlns=\"http://www.w3.org/2000/svg\" height=\"24px\" viewBox=\"0 -960 960 960\">\n",
              "    <path d=\"M120-120v-720h720v720H120Zm60-500h600v-160H180v160Zm220 220h160v-160H400v160Zm0 220h160v-160H400v160ZM180-400h160v-160H180v160Zm440 0h160v-160H620v160ZM180-180h160v-160H180v160Zm440 0h160v-160H620v160Z\"/>\n",
              "  </svg>\n",
              "    </button>\n",
              "\n",
              "  <style>\n",
              "    .colab-df-container {\n",
              "      display:flex;\n",
              "      gap: 12px;\n",
              "    }\n",
              "\n",
              "    .colab-df-convert {\n",
              "      background-color: #E8F0FE;\n",
              "      border: none;\n",
              "      border-radius: 50%;\n",
              "      cursor: pointer;\n",
              "      display: none;\n",
              "      fill: #1967D2;\n",
              "      height: 32px;\n",
              "      padding: 0 0 0 0;\n",
              "      width: 32px;\n",
              "    }\n",
              "\n",
              "    .colab-df-convert:hover {\n",
              "      background-color: #E2EBFA;\n",
              "      box-shadow: 0px 1px 2px rgba(60, 64, 67, 0.3), 0px 1px 3px 1px rgba(60, 64, 67, 0.15);\n",
              "      fill: #174EA6;\n",
              "    }\n",
              "\n",
              "    .colab-df-buttons div {\n",
              "      margin-bottom: 4px;\n",
              "    }\n",
              "\n",
              "    [theme=dark] .colab-df-convert {\n",
              "      background-color: #3B4455;\n",
              "      fill: #D2E3FC;\n",
              "    }\n",
              "\n",
              "    [theme=dark] .colab-df-convert:hover {\n",
              "      background-color: #434B5C;\n",
              "      box-shadow: 0px 1px 3px 1px rgba(0, 0, 0, 0.15);\n",
              "      filter: drop-shadow(0px 1px 2px rgba(0, 0, 0, 0.3));\n",
              "      fill: #FFFFFF;\n",
              "    }\n",
              "  </style>\n",
              "\n",
              "    <script>\n",
              "      const buttonEl =\n",
              "        document.querySelector('#df-c3e84bde-db66-4c99-9356-e4cebd4215ee button.colab-df-convert');\n",
              "      buttonEl.style.display =\n",
              "        google.colab.kernel.accessAllowed ? 'block' : 'none';\n",
              "\n",
              "      async function convertToInteractive(key) {\n",
              "        const element = document.querySelector('#df-c3e84bde-db66-4c99-9356-e4cebd4215ee');\n",
              "        const dataTable =\n",
              "          await google.colab.kernel.invokeFunction('convertToInteractive',\n",
              "                                                    [key], {});\n",
              "        if (!dataTable) return;\n",
              "\n",
              "        const docLinkHtml = 'Like what you see? Visit the ' +\n",
              "          '<a target=\"_blank\" href=https://colab.research.google.com/notebooks/data_table.ipynb>data table notebook</a>'\n",
              "          + ' to learn more about interactive tables.';\n",
              "        element.innerHTML = '';\n",
              "        dataTable['output_type'] = 'display_data';\n",
              "        await google.colab.output.renderOutput(dataTable, element);\n",
              "        const docLink = document.createElement('div');\n",
              "        docLink.innerHTML = docLinkHtml;\n",
              "        element.appendChild(docLink);\n",
              "      }\n",
              "    </script>\n",
              "  </div>\n",
              "\n",
              "\n",
              "<div id=\"df-c3bca2a5-a4a1-4d68-9180-325c9f414bc6\">\n",
              "  <button class=\"colab-df-quickchart\" onclick=\"quickchart('df-c3bca2a5-a4a1-4d68-9180-325c9f414bc6')\"\n",
              "            title=\"Suggest charts.\"\n",
              "            style=\"display:none;\">\n",
              "\n",
              "<svg xmlns=\"http://www.w3.org/2000/svg\" height=\"24px\"viewBox=\"0 0 24 24\"\n",
              "     width=\"24px\">\n",
              "    <g>\n",
              "        <path d=\"M19 3H5c-1.1 0-2 .9-2 2v14c0 1.1.9 2 2 2h14c1.1 0 2-.9 2-2V5c0-1.1-.9-2-2-2zM9 17H7v-7h2v7zm4 0h-2V7h2v10zm4 0h-2v-4h2v4z\"/>\n",
              "    </g>\n",
              "</svg>\n",
              "  </button>\n",
              "\n",
              "<style>\n",
              "  .colab-df-quickchart {\n",
              "    background-color: #E8F0FE;\n",
              "    border: none;\n",
              "    border-radius: 50%;\n",
              "    cursor: pointer;\n",
              "    display: none;\n",
              "    fill: #1967D2;\n",
              "    height: 32px;\n",
              "    padding: 0 0 0 0;\n",
              "    width: 32px;\n",
              "  }\n",
              "\n",
              "  .colab-df-quickchart:hover {\n",
              "    background-color: #E2EBFA;\n",
              "    box-shadow: 0px 1px 2px rgba(60, 64, 67, 0.3), 0px 1px 3px 1px rgba(60, 64, 67, 0.15);\n",
              "    fill: #174EA6;\n",
              "  }\n",
              "\n",
              "  [theme=dark] .colab-df-quickchart {\n",
              "    background-color: #3B4455;\n",
              "    fill: #D2E3FC;\n",
              "  }\n",
              "\n",
              "  [theme=dark] .colab-df-quickchart:hover {\n",
              "    background-color: #434B5C;\n",
              "    box-shadow: 0px 1px 3px 1px rgba(0, 0, 0, 0.15);\n",
              "    filter: drop-shadow(0px 1px 2px rgba(0, 0, 0, 0.3));\n",
              "    fill: #FFFFFF;\n",
              "  }\n",
              "</style>\n",
              "\n",
              "  <script>\n",
              "    async function quickchart(key) {\n",
              "      const charts = await google.colab.kernel.invokeFunction(\n",
              "          'suggestCharts', [key], {});\n",
              "    }\n",
              "    (() => {\n",
              "      let quickchartButtonEl =\n",
              "        document.querySelector('#df-c3bca2a5-a4a1-4d68-9180-325c9f414bc6 button');\n",
              "      quickchartButtonEl.style.display =\n",
              "        google.colab.kernel.accessAllowed ? 'block' : 'none';\n",
              "    })();\n",
              "  </script>\n",
              "</div>\n",
              "    </div>\n",
              "  </div>\n"
            ]
          },
          "metadata": {},
          "execution_count": 14
        }
      ]
    },
    {
      "cell_type": "markdown",
      "source": [
        "# Feature Engineering"
      ],
      "metadata": {
        "id": "VbpLws6j0h7w"
      }
    },
    {
      "cell_type": "markdown",
      "source": [
        "## One hot encoding"
      ],
      "metadata": {
        "id": "cjAHhdbj0k4f"
      }
    },
    {
      "cell_type": "code",
      "source": [
        "encoded_df = pd.get_dummies(df, columns=['type'])"
      ],
      "metadata": {
        "id": "0UWiXu5tzRH6"
      },
      "execution_count": 15,
      "outputs": []
    },
    {
      "cell_type": "code",
      "source": [
        "encoded_df"
      ],
      "metadata": {
        "colab": {
          "base_uri": "https://localhost:8080/",
          "height": 439
        },
        "id": "BUMYQRG00vX9",
        "outputId": "1c031ded-ac35-445a-cf7e-e7701c84c59d"
      },
      "execution_count": 16,
      "outputs": [
        {
          "output_type": "execute_result",
          "data": {
            "text/plain": [
              "         step     amount     nameOrig  oldbalanceOrg  newbalanceOrig  \\\n",
              "584771     33  128143.84    C25914186       22007.00            0.00   \n",
              "1111643   130   16789.22  C1518672148      130499.39       113710.17   \n",
              "3611497   273   38065.38   C811511306           0.00            0.00   \n",
              "4491117   324  261515.07   C807077025       19203.00            0.00   \n",
              "4071959   300  348783.73   C354564231      118174.91       466958.64   \n",
              "...       ...        ...          ...            ...             ...   \n",
              "2146875   184   75288.74  C1661227955       10541.00            0.00   \n",
              "2253997   187    8896.32  C2120413395       11166.00         2269.68   \n",
              "5499633   380    1802.06  C1674048218           0.00            0.00   \n",
              "3870115   283  305475.67  C2140358791           0.00            0.00   \n",
              "3684116   276   14397.20  C2105449073        8465.51            0.00   \n",
              "\n",
              "            nameDest  oldbalanceDest  newbalanceDest  isFraud  type_CASH_IN  \\\n",
              "584771   C1450282055       140130.89       268274.73        0             0   \n",
              "1111643   M293128500            0.00            0.00        0             0   \n",
              "3611497   M642413460            0.00            0.00        0             0   \n",
              "4491117  C1492756391       284637.24       546152.31        0             0   \n",
              "4071959   C762408345       792084.69       443300.96        0             1   \n",
              "...              ...             ...             ...      ...           ...   \n",
              "2146875  C1844272985       603046.41       678335.15        0             0   \n",
              "2253997    C32755964      4654929.08      4663825.40        0             0   \n",
              "5499633   M569596054            0.00            0.00        0             0   \n",
              "3870115   C707361236      5305573.30      5611048.97        0             0   \n",
              "3684116   M709028523            0.00            0.00        0             0   \n",
              "\n",
              "         type_CASH_OUT  type_DEBIT  type_PAYMENT  type_TRANSFER  \n",
              "584771               1           0             0              0  \n",
              "1111643              0           0             1              0  \n",
              "3611497              0           0             1              0  \n",
              "4491117              1           0             0              0  \n",
              "4071959              0           0             0              0  \n",
              "...                ...         ...           ...            ...  \n",
              "2146875              1           0             0              0  \n",
              "2253997              1           0             0              0  \n",
              "5499633              0           0             1              0  \n",
              "3870115              1           0             0              0  \n",
              "3684116              0           0             1              0  \n",
              "\n",
              "[6362620 rows x 14 columns]"
            ],
            "text/html": [
              "\n",
              "  <div id=\"df-3826919d-ef6c-4d97-877c-35c76b8ee28c\" class=\"colab-df-container\">\n",
              "    <div>\n",
              "<style scoped>\n",
              "    .dataframe tbody tr th:only-of-type {\n",
              "        vertical-align: middle;\n",
              "    }\n",
              "\n",
              "    .dataframe tbody tr th {\n",
              "        vertical-align: top;\n",
              "    }\n",
              "\n",
              "    .dataframe thead th {\n",
              "        text-align: right;\n",
              "    }\n",
              "</style>\n",
              "<table border=\"1\" class=\"dataframe\">\n",
              "  <thead>\n",
              "    <tr style=\"text-align: right;\">\n",
              "      <th></th>\n",
              "      <th>step</th>\n",
              "      <th>amount</th>\n",
              "      <th>nameOrig</th>\n",
              "      <th>oldbalanceOrg</th>\n",
              "      <th>newbalanceOrig</th>\n",
              "      <th>nameDest</th>\n",
              "      <th>oldbalanceDest</th>\n",
              "      <th>newbalanceDest</th>\n",
              "      <th>isFraud</th>\n",
              "      <th>type_CASH_IN</th>\n",
              "      <th>type_CASH_OUT</th>\n",
              "      <th>type_DEBIT</th>\n",
              "      <th>type_PAYMENT</th>\n",
              "      <th>type_TRANSFER</th>\n",
              "    </tr>\n",
              "  </thead>\n",
              "  <tbody>\n",
              "    <tr>\n",
              "      <th>584771</th>\n",
              "      <td>33</td>\n",
              "      <td>128143.84</td>\n",
              "      <td>C25914186</td>\n",
              "      <td>22007.00</td>\n",
              "      <td>0.00</td>\n",
              "      <td>C1450282055</td>\n",
              "      <td>140130.89</td>\n",
              "      <td>268274.73</td>\n",
              "      <td>0</td>\n",
              "      <td>0</td>\n",
              "      <td>1</td>\n",
              "      <td>0</td>\n",
              "      <td>0</td>\n",
              "      <td>0</td>\n",
              "    </tr>\n",
              "    <tr>\n",
              "      <th>1111643</th>\n",
              "      <td>130</td>\n",
              "      <td>16789.22</td>\n",
              "      <td>C1518672148</td>\n",
              "      <td>130499.39</td>\n",
              "      <td>113710.17</td>\n",
              "      <td>M293128500</td>\n",
              "      <td>0.00</td>\n",
              "      <td>0.00</td>\n",
              "      <td>0</td>\n",
              "      <td>0</td>\n",
              "      <td>0</td>\n",
              "      <td>0</td>\n",
              "      <td>1</td>\n",
              "      <td>0</td>\n",
              "    </tr>\n",
              "    <tr>\n",
              "      <th>3611497</th>\n",
              "      <td>273</td>\n",
              "      <td>38065.38</td>\n",
              "      <td>C811511306</td>\n",
              "      <td>0.00</td>\n",
              "      <td>0.00</td>\n",
              "      <td>M642413460</td>\n",
              "      <td>0.00</td>\n",
              "      <td>0.00</td>\n",
              "      <td>0</td>\n",
              "      <td>0</td>\n",
              "      <td>0</td>\n",
              "      <td>0</td>\n",
              "      <td>1</td>\n",
              "      <td>0</td>\n",
              "    </tr>\n",
              "    <tr>\n",
              "      <th>4491117</th>\n",
              "      <td>324</td>\n",
              "      <td>261515.07</td>\n",
              "      <td>C807077025</td>\n",
              "      <td>19203.00</td>\n",
              "      <td>0.00</td>\n",
              "      <td>C1492756391</td>\n",
              "      <td>284637.24</td>\n",
              "      <td>546152.31</td>\n",
              "      <td>0</td>\n",
              "      <td>0</td>\n",
              "      <td>1</td>\n",
              "      <td>0</td>\n",
              "      <td>0</td>\n",
              "      <td>0</td>\n",
              "    </tr>\n",
              "    <tr>\n",
              "      <th>4071959</th>\n",
              "      <td>300</td>\n",
              "      <td>348783.73</td>\n",
              "      <td>C354564231</td>\n",
              "      <td>118174.91</td>\n",
              "      <td>466958.64</td>\n",
              "      <td>C762408345</td>\n",
              "      <td>792084.69</td>\n",
              "      <td>443300.96</td>\n",
              "      <td>0</td>\n",
              "      <td>1</td>\n",
              "      <td>0</td>\n",
              "      <td>0</td>\n",
              "      <td>0</td>\n",
              "      <td>0</td>\n",
              "    </tr>\n",
              "    <tr>\n",
              "      <th>...</th>\n",
              "      <td>...</td>\n",
              "      <td>...</td>\n",
              "      <td>...</td>\n",
              "      <td>...</td>\n",
              "      <td>...</td>\n",
              "      <td>...</td>\n",
              "      <td>...</td>\n",
              "      <td>...</td>\n",
              "      <td>...</td>\n",
              "      <td>...</td>\n",
              "      <td>...</td>\n",
              "      <td>...</td>\n",
              "      <td>...</td>\n",
              "      <td>...</td>\n",
              "    </tr>\n",
              "    <tr>\n",
              "      <th>2146875</th>\n",
              "      <td>184</td>\n",
              "      <td>75288.74</td>\n",
              "      <td>C1661227955</td>\n",
              "      <td>10541.00</td>\n",
              "      <td>0.00</td>\n",
              "      <td>C1844272985</td>\n",
              "      <td>603046.41</td>\n",
              "      <td>678335.15</td>\n",
              "      <td>0</td>\n",
              "      <td>0</td>\n",
              "      <td>1</td>\n",
              "      <td>0</td>\n",
              "      <td>0</td>\n",
              "      <td>0</td>\n",
              "    </tr>\n",
              "    <tr>\n",
              "      <th>2253997</th>\n",
              "      <td>187</td>\n",
              "      <td>8896.32</td>\n",
              "      <td>C2120413395</td>\n",
              "      <td>11166.00</td>\n",
              "      <td>2269.68</td>\n",
              "      <td>C32755964</td>\n",
              "      <td>4654929.08</td>\n",
              "      <td>4663825.40</td>\n",
              "      <td>0</td>\n",
              "      <td>0</td>\n",
              "      <td>1</td>\n",
              "      <td>0</td>\n",
              "      <td>0</td>\n",
              "      <td>0</td>\n",
              "    </tr>\n",
              "    <tr>\n",
              "      <th>5499633</th>\n",
              "      <td>380</td>\n",
              "      <td>1802.06</td>\n",
              "      <td>C1674048218</td>\n",
              "      <td>0.00</td>\n",
              "      <td>0.00</td>\n",
              "      <td>M569596054</td>\n",
              "      <td>0.00</td>\n",
              "      <td>0.00</td>\n",
              "      <td>0</td>\n",
              "      <td>0</td>\n",
              "      <td>0</td>\n",
              "      <td>0</td>\n",
              "      <td>1</td>\n",
              "      <td>0</td>\n",
              "    </tr>\n",
              "    <tr>\n",
              "      <th>3870115</th>\n",
              "      <td>283</td>\n",
              "      <td>305475.67</td>\n",
              "      <td>C2140358791</td>\n",
              "      <td>0.00</td>\n",
              "      <td>0.00</td>\n",
              "      <td>C707361236</td>\n",
              "      <td>5305573.30</td>\n",
              "      <td>5611048.97</td>\n",
              "      <td>0</td>\n",
              "      <td>0</td>\n",
              "      <td>1</td>\n",
              "      <td>0</td>\n",
              "      <td>0</td>\n",
              "      <td>0</td>\n",
              "    </tr>\n",
              "    <tr>\n",
              "      <th>3684116</th>\n",
              "      <td>276</td>\n",
              "      <td>14397.20</td>\n",
              "      <td>C2105449073</td>\n",
              "      <td>8465.51</td>\n",
              "      <td>0.00</td>\n",
              "      <td>M709028523</td>\n",
              "      <td>0.00</td>\n",
              "      <td>0.00</td>\n",
              "      <td>0</td>\n",
              "      <td>0</td>\n",
              "      <td>0</td>\n",
              "      <td>0</td>\n",
              "      <td>1</td>\n",
              "      <td>0</td>\n",
              "    </tr>\n",
              "  </tbody>\n",
              "</table>\n",
              "<p>6362620 rows × 14 columns</p>\n",
              "</div>\n",
              "    <div class=\"colab-df-buttons\">\n",
              "\n",
              "  <div class=\"colab-df-container\">\n",
              "    <button class=\"colab-df-convert\" onclick=\"convertToInteractive('df-3826919d-ef6c-4d97-877c-35c76b8ee28c')\"\n",
              "            title=\"Convert this dataframe to an interactive table.\"\n",
              "            style=\"display:none;\">\n",
              "\n",
              "  <svg xmlns=\"http://www.w3.org/2000/svg\" height=\"24px\" viewBox=\"0 -960 960 960\">\n",
              "    <path d=\"M120-120v-720h720v720H120Zm60-500h600v-160H180v160Zm220 220h160v-160H400v160Zm0 220h160v-160H400v160ZM180-400h160v-160H180v160Zm440 0h160v-160H620v160ZM180-180h160v-160H180v160Zm440 0h160v-160H620v160Z\"/>\n",
              "  </svg>\n",
              "    </button>\n",
              "\n",
              "  <style>\n",
              "    .colab-df-container {\n",
              "      display:flex;\n",
              "      gap: 12px;\n",
              "    }\n",
              "\n",
              "    .colab-df-convert {\n",
              "      background-color: #E8F0FE;\n",
              "      border: none;\n",
              "      border-radius: 50%;\n",
              "      cursor: pointer;\n",
              "      display: none;\n",
              "      fill: #1967D2;\n",
              "      height: 32px;\n",
              "      padding: 0 0 0 0;\n",
              "      width: 32px;\n",
              "    }\n",
              "\n",
              "    .colab-df-convert:hover {\n",
              "      background-color: #E2EBFA;\n",
              "      box-shadow: 0px 1px 2px rgba(60, 64, 67, 0.3), 0px 1px 3px 1px rgba(60, 64, 67, 0.15);\n",
              "      fill: #174EA6;\n",
              "    }\n",
              "\n",
              "    .colab-df-buttons div {\n",
              "      margin-bottom: 4px;\n",
              "    }\n",
              "\n",
              "    [theme=dark] .colab-df-convert {\n",
              "      background-color: #3B4455;\n",
              "      fill: #D2E3FC;\n",
              "    }\n",
              "\n",
              "    [theme=dark] .colab-df-convert:hover {\n",
              "      background-color: #434B5C;\n",
              "      box-shadow: 0px 1px 3px 1px rgba(0, 0, 0, 0.15);\n",
              "      filter: drop-shadow(0px 1px 2px rgba(0, 0, 0, 0.3));\n",
              "      fill: #FFFFFF;\n",
              "    }\n",
              "  </style>\n",
              "\n",
              "    <script>\n",
              "      const buttonEl =\n",
              "        document.querySelector('#df-3826919d-ef6c-4d97-877c-35c76b8ee28c button.colab-df-convert');\n",
              "      buttonEl.style.display =\n",
              "        google.colab.kernel.accessAllowed ? 'block' : 'none';\n",
              "\n",
              "      async function convertToInteractive(key) {\n",
              "        const element = document.querySelector('#df-3826919d-ef6c-4d97-877c-35c76b8ee28c');\n",
              "        const dataTable =\n",
              "          await google.colab.kernel.invokeFunction('convertToInteractive',\n",
              "                                                    [key], {});\n",
              "        if (!dataTable) return;\n",
              "\n",
              "        const docLinkHtml = 'Like what you see? Visit the ' +\n",
              "          '<a target=\"_blank\" href=https://colab.research.google.com/notebooks/data_table.ipynb>data table notebook</a>'\n",
              "          + ' to learn more about interactive tables.';\n",
              "        element.innerHTML = '';\n",
              "        dataTable['output_type'] = 'display_data';\n",
              "        await google.colab.output.renderOutput(dataTable, element);\n",
              "        const docLink = document.createElement('div');\n",
              "        docLink.innerHTML = docLinkHtml;\n",
              "        element.appendChild(docLink);\n",
              "      }\n",
              "    </script>\n",
              "  </div>\n",
              "\n",
              "\n",
              "<div id=\"df-3655eb94-8401-44da-bc65-39d9a4384503\">\n",
              "  <button class=\"colab-df-quickchart\" onclick=\"quickchart('df-3655eb94-8401-44da-bc65-39d9a4384503')\"\n",
              "            title=\"Suggest charts.\"\n",
              "            style=\"display:none;\">\n",
              "\n",
              "<svg xmlns=\"http://www.w3.org/2000/svg\" height=\"24px\"viewBox=\"0 0 24 24\"\n",
              "     width=\"24px\">\n",
              "    <g>\n",
              "        <path d=\"M19 3H5c-1.1 0-2 .9-2 2v14c0 1.1.9 2 2 2h14c1.1 0 2-.9 2-2V5c0-1.1-.9-2-2-2zM9 17H7v-7h2v7zm4 0h-2V7h2v10zm4 0h-2v-4h2v4z\"/>\n",
              "    </g>\n",
              "</svg>\n",
              "  </button>\n",
              "\n",
              "<style>\n",
              "  .colab-df-quickchart {\n",
              "    background-color: #E8F0FE;\n",
              "    border: none;\n",
              "    border-radius: 50%;\n",
              "    cursor: pointer;\n",
              "    display: none;\n",
              "    fill: #1967D2;\n",
              "    height: 32px;\n",
              "    padding: 0 0 0 0;\n",
              "    width: 32px;\n",
              "  }\n",
              "\n",
              "  .colab-df-quickchart:hover {\n",
              "    background-color: #E2EBFA;\n",
              "    box-shadow: 0px 1px 2px rgba(60, 64, 67, 0.3), 0px 1px 3px 1px rgba(60, 64, 67, 0.15);\n",
              "    fill: #174EA6;\n",
              "  }\n",
              "\n",
              "  [theme=dark] .colab-df-quickchart {\n",
              "    background-color: #3B4455;\n",
              "    fill: #D2E3FC;\n",
              "  }\n",
              "\n",
              "  [theme=dark] .colab-df-quickchart:hover {\n",
              "    background-color: #434B5C;\n",
              "    box-shadow: 0px 1px 3px 1px rgba(0, 0, 0, 0.15);\n",
              "    filter: drop-shadow(0px 1px 2px rgba(0, 0, 0, 0.3));\n",
              "    fill: #FFFFFF;\n",
              "  }\n",
              "</style>\n",
              "\n",
              "  <script>\n",
              "    async function quickchart(key) {\n",
              "      const charts = await google.colab.kernel.invokeFunction(\n",
              "          'suggestCharts', [key], {});\n",
              "    }\n",
              "    (() => {\n",
              "      let quickchartButtonEl =\n",
              "        document.querySelector('#df-3655eb94-8401-44da-bc65-39d9a4384503 button');\n",
              "      quickchartButtonEl.style.display =\n",
              "        google.colab.kernel.accessAllowed ? 'block' : 'none';\n",
              "    })();\n",
              "  </script>\n",
              "</div>\n",
              "    </div>\n",
              "  </div>\n"
            ]
          },
          "metadata": {},
          "execution_count": 16
        }
      ]
    },
    {
      "cell_type": "markdown",
      "source": [
        "# Preparing Data as X and Y"
      ],
      "metadata": {
        "id": "FJ2Or2s-_crG"
      }
    },
    {
      "cell_type": "code",
      "source": [
        "y = encoded_df ['isFraud']\n",
        "y"
      ],
      "metadata": {
        "colab": {
          "base_uri": "https://localhost:8080/"
        },
        "id": "pKMkveoa_I23",
        "outputId": "eae90ec1-4f9b-4c90-bfa0-33ca318a0a66"
      },
      "execution_count": 17,
      "outputs": [
        {
          "output_type": "execute_result",
          "data": {
            "text/plain": [
              "584771     0\n",
              "1111643    0\n",
              "3611497    0\n",
              "4491117    0\n",
              "4071959    0\n",
              "          ..\n",
              "2146875    0\n",
              "2253997    0\n",
              "5499633    0\n",
              "3870115    0\n",
              "3684116    0\n",
              "Name: isFraud, Length: 6362620, dtype: int64"
            ]
          },
          "metadata": {},
          "execution_count": 17
        }
      ]
    },
    {
      "cell_type": "markdown",
      "source": [
        "### Checking for missing values in the data"
      ],
      "metadata": {
        "id": "dJhAfEHJK0ol"
      }
    },
    {
      "cell_type": "code",
      "source": [
        "encoded_df.isnull().sum()"
      ],
      "metadata": {
        "colab": {
          "base_uri": "https://localhost:8080/"
        },
        "id": "TuwXOOiZK8ZZ",
        "outputId": "db78e979-6d5d-42b4-a99d-f5a18cf7b2b7"
      },
      "execution_count": 21,
      "outputs": [
        {
          "output_type": "execute_result",
          "data": {
            "text/plain": [
              "step              0\n",
              "amount            0\n",
              "nameOrig          0\n",
              "oldbalanceOrg     0\n",
              "newbalanceOrig    0\n",
              "nameDest          0\n",
              "oldbalanceDest    0\n",
              "newbalanceDest    0\n",
              "isFraud           0\n",
              "type_CASH_IN      0\n",
              "type_CASH_OUT     0\n",
              "type_DEBIT        0\n",
              "type_PAYMENT      0\n",
              "type_TRANSFER     0\n",
              "dtype: int64"
            ]
          },
          "metadata": {},
          "execution_count": 21
        }
      ]
    },
    {
      "cell_type": "code",
      "source": [
        "encoded_df['isFraud'].value_counts()"
      ],
      "metadata": {
        "colab": {
          "base_uri": "https://localhost:8080/"
        },
        "id": "9xRgzCdoNjWe",
        "outputId": "e2fb4860-8d86-4e96-da1b-3114cb42c43b"
      },
      "execution_count": 22,
      "outputs": [
        {
          "output_type": "execute_result",
          "data": {
            "text/plain": [
              "0    6354407\n",
              "1       8213\n",
              "Name: isFraud, dtype: int64"
            ]
          },
          "metadata": {},
          "execution_count": 22
        }
      ]
    },
    {
      "cell_type": "markdown",
      "source": [
        "## Splitting the data into Training and Testing"
      ],
      "metadata": {
        "id": "3eIRs1e-RQTK"
      }
    },
    {
      "cell_type": "code",
      "source": [
        "from sklearn.model_selection import train_test_split\n",
        "X_train, X_test, y_train, y_test = train_test_split(X, y, test_size=0.2, random_state=42)"
      ],
      "metadata": {
        "id": "rJj1Y_lGRQ46"
      },
      "execution_count": 37,
      "outputs": []
    },
    {
      "cell_type": "markdown",
      "source": [
        "# Model Building"
      ],
      "metadata": {
        "id": "80rW9HKS_v3M"
      }
    },
    {
      "cell_type": "code",
      "source": [
        "from sklearn.linear_model import LogisticRegression"
      ],
      "metadata": {
        "id": "X6CaX3Xn_6Qt"
      },
      "execution_count": 34,
      "outputs": []
    },
    {
      "cell_type": "code",
      "source": [
        "X = np.random.rand(100, 2)\n",
        "y = np.random.randint(2, size=100)"
      ],
      "metadata": {
        "id": "adSOTfZgOt3L"
      },
      "execution_count": 35,
      "outputs": []
    },
    {
      "cell_type": "code",
      "source": [
        "df_encoded = LogisticRegression()\n",
        "df_encoded.fit(X_train, y_train)\n",
        "y_pred = df_encoded.predict(X_test)"
      ],
      "metadata": {
        "id": "5jIt5uYYV4Q4"
      },
      "execution_count": 39,
      "outputs": []
    },
    {
      "cell_type": "markdown",
      "source": [
        "### Evaluate the model"
      ],
      "metadata": {
        "id": "3UNgzSMYP9W8"
      }
    },
    {
      "cell_type": "code",
      "source": [
        "from sklearn.metrics import accuracy_score, confusion_matrix, classification_report\n",
        "accuracy = accuracy_score(y_test, y_pred)\n",
        "print(\"Accuracy:\", accuracy)"
      ],
      "metadata": {
        "colab": {
          "base_uri": "https://localhost:8080/"
        },
        "id": "NIbDLuAuOztK",
        "outputId": "ad96d4cc-c522-43a6-d048-8a157f9334f3"
      },
      "execution_count": 41,
      "outputs": [
        {
          "output_type": "stream",
          "name": "stdout",
          "text": [
            "Accuracy: 0.6\n"
          ]
        }
      ]
    },
    {
      "cell_type": "markdown",
      "source": [
        "### Confusion Matrix"
      ],
      "metadata": {
        "id": "cNcC_LviWZSb"
      }
    },
    {
      "cell_type": "code",
      "source": [
        "conf_matrix = confusion_matrix(y_test, y_pred)\n",
        "print(\"Confusion Matrix:\\n\", conf_matrix)"
      ],
      "metadata": {
        "colab": {
          "base_uri": "https://localhost:8080/"
        },
        "id": "AEwwpLNmWYsp",
        "outputId": "3320f2a6-dd72-4a7e-8cbc-3b517bf831c5"
      },
      "execution_count": 42,
      "outputs": [
        {
          "output_type": "stream",
          "name": "stdout",
          "text": [
            "Confusion Matrix:\n",
            " [[5 6]\n",
            " [2 7]]\n"
          ]
        }
      ]
    },
    {
      "cell_type": "markdown",
      "source": [
        "### Classification Report"
      ],
      "metadata": {
        "id": "fQ-jxr1XWeZl"
      }
    },
    {
      "cell_type": "code",
      "source": [
        "class_report = classification_report(y_test, y_pred)\n",
        "print(\"Classification Report:\\n\", class_report)"
      ],
      "metadata": {
        "colab": {
          "base_uri": "https://localhost:8080/"
        },
        "id": "XrCkXZEhWkUr",
        "outputId": "54fa03b7-7c52-4bb0-f0c8-acfdcbce40d8"
      },
      "execution_count": 43,
      "outputs": [
        {
          "output_type": "stream",
          "name": "stdout",
          "text": [
            "Classification Report:\n",
            "               precision    recall  f1-score   support\n",
            "\n",
            "           0       0.71      0.45      0.56        11\n",
            "           1       0.54      0.78      0.64         9\n",
            "\n",
            "    accuracy                           0.60        20\n",
            "   macro avg       0.63      0.62      0.60        20\n",
            "weighted avg       0.64      0.60      0.59        20\n",
            "\n"
          ]
        }
      ]
    },
    {
      "cell_type": "markdown",
      "source": [
        "## Tuning the hyperparameters"
      ],
      "metadata": {
        "id": "b6u4FuzWWqG_"
      }
    },
    {
      "cell_type": "code",
      "source": [
        "df_encoded = LogisticRegression(solver='lbfgs', C=0.1)\n",
        "df_encoded.fit(X_train, y_train)\n",
        "y_pred = df_encoded.predict(X_test)"
      ],
      "metadata": {
        "id": "pclfaAHOWp0g"
      },
      "execution_count": 44,
      "outputs": []
    },
    {
      "cell_type": "markdown",
      "source": [
        "## Interpretation"
      ],
      "metadata": {
        "id": "u_8to4wjW5M5"
      }
    },
    {
      "cell_type": "code",
      "source": [
        "coefficients = df_encoded.coef_\n",
        "print(\"Coefficients:\", coefficients)"
      ],
      "metadata": {
        "colab": {
          "base_uri": "https://localhost:8080/"
        },
        "id": "bQ9A4lWdQmYx",
        "outputId": "f95d96f8-22a7-4b13-e69a-3e9bb832ec6a"
      },
      "execution_count": 46,
      "outputs": [
        {
          "output_type": "stream",
          "name": "stdout",
          "text": [
            "Coefficients: [[-0.11650901  0.15058505]]\n"
          ]
        }
      ]
    }
  ]
}